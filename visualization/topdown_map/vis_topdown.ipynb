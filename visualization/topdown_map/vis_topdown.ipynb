{
 "cells": [
  {
   "cell_type": "markdown",
   "metadata": {},
   "source": [
    "### Visualization for Ground Truth* and Predicted Trajectories"
   ]
  },
  {
   "cell_type": "markdown",
   "metadata": {},
   "source": [
    "List folders in the current directory"
   ]
  },
  {
   "cell_type": "code",
   "execution_count": null,
   "metadata": {},
   "outputs": [],
   "source": [
    "import json, os\n",
    "print(f\"Current working directory: {os.getcwd()}\")\n",
    "folders = {}\n",
    "scan_dir = \"/projects/VLN-Tutorial/duet/datasets/Matterport3D/v1_unzip_scans\"\n",
    "files = os.listdir(scan_dir)\n",
    "for id, name in enumerate(files):\n",
    "    subfolder = os.listdir(scan_dir + \"/\" +name + \"/matterport_mesh/\")\n",
    "    folders[name]=subfolder[0]"
   ]
  },
  {
   "cell_type": "code",
   "execution_count": 2,
   "metadata": {},
   "outputs": [],
   "source": [
    "def idx2scan_folder(idx, trajectory_data):\n",
    "    trajectory = trajectory_data[idx]\n",
    "    instr_id = trajectory['instr_id']\n",
    "    scan = instr_id2scan[instr_id]\n",
    "    txt = instr_id2txt[instr_id]\n",
    "    return [scan, folders[scan]]\n",
    "\n",
    "def traj2conn_json(graph_path, idx, trajectory_data):\n",
    "    trajectory = trajectory_data[idx]\n",
    "    instr_id = trajectory['instr_id']\n",
    "    scan = instr_id2scan[instr_id]\n",
    "    viewpointId2idx={}\n",
    "    with open(graph_path % scan) as f:\n",
    "        conn_data = json.load(f)\n",
    "    for i,item in enumerate(conn_data):\n",
    "        viewpointId2idx[item['image_id']]=i\n",
    "    return trajectory, viewpointId2idx, conn_data\n",
    "\n",
    "def gen_conns(trajectory, viewpointId2idx, conn_data):\n",
    "    trajectory = trajectory_data[idx]\n",
    "    node=conn_data[viewpointId2idx[trajectory['trajectory'][0][0]]]\n",
    "    node={k:v for k,v in node.items()}\n",
    "    node['unobstructed'] = [False]*len(trajectory['trajectory'])\n",
    "    conns=[node]\n",
    "    prev_viewpoint = node['image_id']\n",
    "    for n, (viewpoint, heading, elevation) in enumerate(trajectory['trajectory'][1:]):\n",
    "        node=conn_data[viewpointId2idx[viewpoint]]\n",
    "        node={k:v for k,v in node.items()}\n",
    "        prev_viewpoint = conns[-1]['image_id']\n",
    "        if viewpoint != prev_viewpoint:\n",
    "            assert node['unobstructed'][viewpointId2idx[prev_viewpoint]]\n",
    "            node['unobstructed'] = [False]*len(trajectory['trajectory'])\n",
    "            node['unobstructed'][len(conns)-1]=True\n",
    "            conns.append(node)\n",
    "    return conns"
   ]
  },
  {
   "cell_type": "code",
   "execution_count": 3,
   "metadata": {},
   "outputs": [],
   "source": [
    "def build_dicts(trajectory_path, instruction_path):\n",
    "    with open(trajectory_path) as f:\n",
    "        trajectory_data = json.load(f)\n",
    "    with open(instruction_path) as f:\n",
    "        instruction_data = json.load(f)\n",
    "\n",
    "    instr_id2txt = {\n",
    "        ('%s_%d' % (d['path_id'], n)): txt for d in instruction_data for n, txt in enumerate(d['instructions'])}\n",
    "    instr_id2scan = {\n",
    "        ('%s_%d' % (d['path_id'], n)): d['scan'] for d in instruction_data for n, txt in enumerate(d['instructions'])}\n",
    "    scan2trajidx = {\n",
    "        instr_id2scan[traj['instr_id']]:idx for idx, traj in enumerate(trajectory_data)}\n",
    "    instr_id2trajidx = {\n",
    "        traj['instr_id']:idx for idx, traj in enumerate(trajectory_data)}\n",
    "    return trajectory_data, instruction_data, instr_id2txt, instr_id2scan, scan2trajidx, instr_id2trajidx"
   ]
  },
  {
   "cell_type": "markdown",
   "metadata": {},
   "source": [
    "Specify the trajectory ID and modify the trajectory path"
   ]
  },
  {
   "cell_type": "code",
   "execution_count": 4,
   "metadata": {},
   "outputs": [],
   "source": [
    "instr_id =\"6077_2\"\n",
    "trajectory_path = \"/projects/VLN-Tutorial/seq2seq/results/val_unseen_shortest_agent.json\" #get this after run \"seq2seq/eval.py\"\n",
    "\n",
    "instruction_path = \"/projects/VLN-Tutorial/seq2seq/data/R2R_val_unseen.json\"\n",
    "\n",
    "graph_path = \"/projects/VLN-Tutorial/Matterport3DSimulator/connectivity/%s_connectivity.json\""
   ]
  },
  {
   "cell_type": "code",
   "execution_count": null,
   "metadata": {},
   "outputs": [],
   "source": [
    "trajectory_data, instruction_data, instr_id2txt, instr_id2scan, scan2trajidx, instr_id2trajidx \\\n",
    "= build_dicts(trajectory_path, instruction_path)\n",
    "\n",
    "idxs= [instr_id2trajidx[instr_id]]\n",
    "scan_folders = [idx2scan_folder(idx, trajectory_data) for idx in idxs]\n",
    "print(scan_folders)\n",
    "instr_id = trajectory_data[idxs[0]]['instr_id']\n",
    "print(instr_id)\n",
    "\n",
    "# show instructions\n",
    "\n",
    "instruction = instr_id2txt[instr_id]\n",
    "print(instruction)\n",
    "print('')\n",
    "for i in ['0','1','2']:\n",
    "    print(instr_id2txt[instr_id[:-1]+i])"
   ]
  },
  {
   "cell_type": "markdown",
   "metadata": {},
   "source": [
    "Dump files for visualization\n",
    "\n",
    "`./jolin_mesh_names.json` and `'./%s.json'% scan` will be genereated"
   ]
  },
  {
   "cell_type": "code",
   "execution_count": 6,
   "metadata": {},
   "outputs": [],
   "source": [
    "scan_folders = [idx2scan_folder(idx, trajectory_data) for idx in idxs]\n",
    "\n",
    "with open('./jolin_mesh_names.json', 'w') as fp:\n",
    "    json.dump(scan_folders, fp)\n",
    "\n",
    "for idx, (scan, folder) in zip(idxs, scan_folders):\n",
    "    with open('./%s.json'% scan, 'w') as fp:\n",
    "        trajectory, viewpointId2idx, conn_data=traj2conn_json(graph_path, idx, trajectory_data)\n",
    "        json.dump(gen_conns(trajectory, viewpointId2idx, conn_data), fp)"
   ]
  },
  {
   "cell_type": "markdown",
   "metadata": {},
   "source": [
    "## Visualize the result through the Web Browser"
   ]
  },
  {
   "cell_type": "markdown",
   "metadata": {},
   "source": [
    "### 1. Install the chrome and chrome driver"
   ]
  },
  {
   "cell_type": "code",
   "execution_count": null,
   "metadata": {},
   "outputs": [],
   "source": [
    "'''\n",
    "#Check the version of chrome\n",
    "/Applications/Google\\ Chrome.app/Contents/MacOS/Google\\ Chrome --version\n",
    "\n",
    "#install the chrome driver\n",
    "brew install --cask chromedriver\n",
    "\n",
    "#verify the installation\n",
    "chromedriver --version\n",
    "'''"
   ]
  },
  {
   "cell_type": "markdown",
   "metadata": {},
   "source": [
    "### 2. Enter the folder and start http server\n"
   ]
  },
  {
   "cell_type": "markdown",
   "metadata": {},
   "source": [
    "Run\n",
    "```\n",
    "cd /projects/VLN-Tutorial/visualization/topdown_map\n",
    "\n",
    "python -m http.server 8001\n",
    "```"
   ]
  },
  {
   "cell_type": "markdown",
   "metadata": {},
   "source": [
    "### 3. Set the dataset in topdown_map folder\n",
    "```\n",
    "# First, ensure the target directory exists\n",
    "mkdir -p /projects/VLN-Tutorial/visualization/topdown_map/matterport_mesh/v1/\n",
    "\n",
    "# Then create the symbolic link\n",
    "ln -s /projects/VLN-Tutorial/duet/datasets/Matterport3D/v1_unzip_scans /projects/VLN-Tutorial/visualization/topdown_map/matterport_mesh/v1/scans\n",
    "```\n",
    "The webpage requires the mesh files to be visualized"
   ]
  },
  {
   "cell_type": "markdown",
   "metadata": {},
   "source": [
    "### 3. Start the server"
   ]
  },
  {
   "cell_type": "code",
   "execution_count": null,
   "metadata": {},
   "outputs": [],
   "source": [
    "import tempfile\n",
    "from selenium import webdriver\n",
    "from selenium.webdriver.chrome.options import Options\n",
    "from selenium.webdriver.chrome.service import Service\n",
    "\n",
    "# Create a fresh temporary directory for user data\n",
    "unique_profile = tempfile.mkdtemp()\n",
    "options = Options()\n",
    "options.add_argument(f\"--user-data-dir={unique_profile}\")\n",
    "service = Service(executable_path=\"/opt/homebrew/bin/chromedriver\")\n",
    "\n",
    "browser = webdriver.Chrome(service=service, options=options)\n",
    "url = \"http://127.0.0.1:8001/connectivity.html\" #the url of the server in local machine\n",
    "# if you run the server in remote machine, you need to change the url to the ip of the remote machine\n",
    "browser.get(url)"
   ]
  },
  {
   "cell_type": "code",
   "execution_count": null,
   "metadata": {},
   "outputs": [],
   "source": [
    "imgData= browser.execute_script('return renderer.domElement.toDataURL().replace(\"image/png\", \"image/octet-stream\")')\n",
    "display(HTML('''<img src=\"%s\">'''%(imgData)))"
   ]
  }
 ],
 "metadata": {
  "kernelspec": {
   "display_name": "Python 3",
   "language": "python",
   "name": "python3"
  },
  "language_info": {
   "codemirror_mode": {
    "name": "ipython",
    "version": 3
   },
   "file_extension": ".py",
   "mimetype": "text/x-python",
   "name": "python",
   "nbconvert_exporter": "python",
   "pygments_lexer": "ipython3",
   "version": "3.8.10"
  }
 },
 "nbformat": 4,
 "nbformat_minor": 2
}
